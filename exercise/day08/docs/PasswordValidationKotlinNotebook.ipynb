{
 "cells": [
  {
   "cell_type": "markdown",
   "source": [
    "## Day 8: Your first TDD adventure.\n",
    "\n",
    "Today your journey takes you on your first TDD adventure.\n",
    "You will need to secure your ship.\n",
    "\n",
    "The task of today is to design a password verification program. \n",
    "\n",
    "The password verification program will take a password as an argument and \n",
    "the password will be valid only if all these conditions are correct:\n",
    "\n",
    "- Contains at least 8 characters\n",
    "- Contains at least one capital letter\n",
    "- Contains at least one lowercase letter\n",
    "- Contains at least a number\n",
    "- Contains at least a special character in this list `. * # @ $ % &`.\n",
    "- Any other characters are not authorized.\n",
    "\n",
    "In this program, the only thing that matters is to know if the password is valid.\n",
    "Not why it is not.\n",
    "\n",
    "Nevertheless, for the magic to work properly, you will need to follow the TDD rules. 🧙‍♂️\n",
    "\n",
    "The TDD rules are quite simple:\n",
    "\n",
    "- Write production code only to pass a failing unit test.\n",
    "- Write no more of a unit test than sufficient to fail (compilation failures are failures).\n",
    "- Write no more production code than necessary to pass the one failing unit test.\n",
    "\n",
    "A gentle reminder, the steps to use the TDD magic can be applied this way:\n",
    "\n",
    "    🔴 Write a failing test\n",
    "    🟢 Make the test pass\n",
    "    🔵 Refactor your code\n",
    "\n",
    "The magic will continue to work only with one condition:\n",
    "**if at any time, your tests are not passing, you need to revert your latest change.**\n",
    "\n",
    "The only exception to the previous rule is if you are using a double loop system. \n",
    "As shown below:\n",
    "\n",
    "![TDD Double Loop](img/double_loop.png)\n",
    "\n",
    "\n",
    "_Are you ready?_\n",
    "\n",
    ">**Challenge of day 8: Using TDD rules, write a password validation program.**\n",
    "\n",
    "May your crafting journey bring you new lights!\n",
    "\n",
    "- <u>💡HINT1:</u> The project is empty, so you'll have to auto-generate your code from a test class.\n",
    "- <u>💡HINT2:</u> Start with the easiest behavior to write a test for (Baby Step)."
   ],
   "metadata": {
    "collapsed": false
   }
  },
  {
   "cell_type": "markdown",
   "source": [
    "## Contains at least 8 characters"
   ],
   "metadata": {
    "collapsed": false
   }
  },
  {
   "cell_type": "code",
   "execution_count": 80,
   "outputs": [],
   "source": [
    "fun String.containsAtLeast8Characters(): Boolean = this.length >= 8"
   ],
   "metadata": {
    "collapsed": false,
    "ExecuteTime": {
     "end_time": "2023-12-10T22:52:01.656341Z",
     "start_time": "2023-12-10T22:52:01.619319Z"
    }
   }
  },
  {
   "cell_type": "code",
   "execution_count": 81,
   "outputs": [
    {
     "data": {
      "text/plain": "true"
     },
     "execution_count": 81,
     "metadata": {},
     "output_type": "execute_result"
    }
   ],
   "source": [
    "\"12345678\".containsAtLeast8Characters()"
   ],
   "metadata": {
    "collapsed": false,
    "ExecuteTime": {
     "end_time": "2023-12-10T22:52:01.686619Z",
     "start_time": "2023-12-10T22:52:01.649316Z"
    }
   }
  },
  {
   "cell_type": "code",
   "execution_count": 82,
   "outputs": [
    {
     "data": {
      "text/plain": "true"
     },
     "execution_count": 82,
     "metadata": {},
     "output_type": "execute_result"
    }
   ],
   "source": [
    "\"123456789\".containsAtLeast8Characters()"
   ],
   "metadata": {
    "collapsed": false,
    "ExecuteTime": {
     "end_time": "2023-12-10T22:52:01.721196Z",
     "start_time": "2023-12-10T22:52:01.673367Z"
    }
   }
  },
  {
   "cell_type": "code",
   "execution_count": 83,
   "outputs": [
    {
     "data": {
      "text/plain": "false"
     },
     "execution_count": 83,
     "metadata": {},
     "output_type": "execute_result"
    }
   ],
   "source": [
    "\"\".containsAtLeast8Characters()"
   ],
   "metadata": {
    "collapsed": false,
    "ExecuteTime": {
     "end_time": "2023-12-10T22:52:01.764002Z",
     "start_time": "2023-12-10T22:52:01.703099Z"
    }
   }
  },
  {
   "cell_type": "markdown",
   "source": [
    "## Contains at least a number"
   ],
   "metadata": {
    "collapsed": false
   }
  },
  {
   "cell_type": "code",
   "execution_count": 84,
   "outputs": [],
   "source": [
    "fun String.containsAtLeastANumber(): Boolean = this.toCharArray().any { it.isDigit() }"
   ],
   "metadata": {
    "collapsed": false,
    "ExecuteTime": {
     "end_time": "2023-12-10T22:52:01.828056Z",
     "start_time": "2023-12-10T22:52:01.728184Z"
    }
   }
  },
  {
   "cell_type": "code",
   "execution_count": 85,
   "outputs": [
    {
     "data": {
      "text/plain": "true"
     },
     "execution_count": 85,
     "metadata": {},
     "output_type": "execute_result"
    }
   ],
   "source": [
    "\"1\".containsAtLeastANumber()"
   ],
   "metadata": {
    "collapsed": false,
    "ExecuteTime": {
     "end_time": "2023-12-10T22:52:01.844354Z",
     "start_time": "2023-12-10T22:52:01.787088Z"
    }
   }
  },
  {
   "cell_type": "code",
   "execution_count": 86,
   "outputs": [
    {
     "data": {
      "text/plain": "true"
     },
     "execution_count": 86,
     "metadata": {},
     "output_type": "execute_result"
    }
   ],
   "source": [
    "\"123456789\".containsAtLeastANumber()"
   ],
   "metadata": {
    "collapsed": false,
    "ExecuteTime": {
     "end_time": "2023-12-10T22:52:01.884703Z",
     "start_time": "2023-12-10T22:52:01.822768Z"
    }
   }
  },
  {
   "cell_type": "code",
   "execution_count": 87,
   "outputs": [
    {
     "data": {
      "text/plain": "false"
     },
     "execution_count": 87,
     "metadata": {},
     "output_type": "execute_result"
    }
   ],
   "source": [
    "\"a\".containsAtLeastANumber()"
   ],
   "metadata": {
    "collapsed": false,
    "ExecuteTime": {
     "end_time": "2023-12-10T22:52:01.897235Z",
     "start_time": "2023-12-10T22:52:01.857153Z"
    }
   }
  },
  {
   "cell_type": "code",
   "execution_count": 88,
   "outputs": [
    {
     "data": {
      "text/plain": "false"
     },
     "execution_count": 88,
     "metadata": {},
     "output_type": "execute_result"
    }
   ],
   "source": [
    "\"\".containsAtLeastANumber()"
   ],
   "metadata": {
    "collapsed": false,
    "ExecuteTime": {
     "end_time": "2023-12-10T22:52:01.958598Z",
     "start_time": "2023-12-10T22:52:01.883595Z"
    }
   }
  },
  {
   "cell_type": "markdown",
   "source": [
    "## Contains at least one capital letter\n"
   ],
   "metadata": {
    "collapsed": false
   }
  },
  {
   "cell_type": "code",
   "execution_count": 89,
   "outputs": [],
   "source": [
    "fun String.containsAtLeast1CapitalLetter() = this.any{it.isLetter() && it.isUpperCase()}"
   ],
   "metadata": {
    "collapsed": false,
    "ExecuteTime": {
     "end_time": "2023-12-10T22:52:01.985485Z",
     "start_time": "2023-12-10T22:52:01.914625Z"
    }
   }
  },
  {
   "cell_type": "code",
   "execution_count": 90,
   "outputs": [
    {
     "data": {
      "text/plain": "true"
     },
     "execution_count": 90,
     "metadata": {},
     "output_type": "execute_result"
    }
   ],
   "source": [
    "\"A\".containsAtLeast1CapitalLetter()"
   ],
   "metadata": {
    "collapsed": false,
    "ExecuteTime": {
     "end_time": "2023-12-10T22:52:01.999333Z",
     "start_time": "2023-12-10T22:52:01.972448Z"
    }
   }
  },
  {
   "cell_type": "code",
   "execution_count": 91,
   "outputs": [
    {
     "data": {
      "text/plain": "true"
     },
     "execution_count": 91,
     "metadata": {},
     "output_type": "execute_result"
    }
   ],
   "source": [
    "\"ABC\".containsAtLeast1CapitalLetter()"
   ],
   "metadata": {
    "collapsed": false,
    "ExecuteTime": {
     "end_time": "2023-12-10T22:52:02.020325Z",
     "start_time": "2023-12-10T22:52:01.995579Z"
    }
   }
  },
  {
   "cell_type": "code",
   "execution_count": 92,
   "outputs": [
    {
     "data": {
      "text/plain": "false"
     },
     "execution_count": 92,
     "metadata": {},
     "output_type": "execute_result"
    }
   ],
   "source": [
    "\"a\".containsAtLeast1CapitalLetter()"
   ],
   "metadata": {
    "collapsed": false,
    "ExecuteTime": {
     "end_time": "2023-12-10T22:52:02.088722Z",
     "start_time": "2023-12-10T22:52:02.018670Z"
    }
   }
  },
  {
   "cell_type": "code",
   "execution_count": 93,
   "outputs": [
    {
     "data": {
      "text/plain": "false"
     },
     "execution_count": 93,
     "metadata": {},
     "output_type": "execute_result"
    }
   ],
   "source": [
    "\"1\".containsAtLeast1CapitalLetter()"
   ],
   "metadata": {
    "collapsed": false,
    "ExecuteTime": {
     "end_time": "2023-12-10T22:52:02.116905Z",
     "start_time": "2023-12-10T22:52:02.040183Z"
    }
   }
  },
  {
   "cell_type": "code",
   "execution_count": 94,
   "outputs": [
    {
     "data": {
      "text/plain": "false"
     },
     "execution_count": 94,
     "metadata": {},
     "output_type": "execute_result"
    }
   ],
   "source": [
    "\"\".containsAtLeast1CapitalLetter()"
   ],
   "metadata": {
    "collapsed": false,
    "ExecuteTime": {
     "end_time": "2023-12-10T22:52:02.136916Z",
     "start_time": "2023-12-10T22:52:02.069718Z"
    }
   }
  },
  {
   "cell_type": "markdown",
   "source": [
    "## Contains at least one lowercase letter"
   ],
   "metadata": {
    "collapsed": false
   }
  },
  {
   "cell_type": "code",
   "execution_count": 95,
   "outputs": [],
   "source": [
    "fun String.containsAtLeast1LowercaseLetter() = false"
   ],
   "metadata": {
    "collapsed": false,
    "ExecuteTime": {
     "end_time": "2023-12-10T22:52:02.142541Z",
     "start_time": "2023-12-10T22:52:02.101342Z"
    }
   }
  },
  {
   "cell_type": "code",
   "execution_count": 96,
   "outputs": [
    {
     "data": {
      "text/plain": "false"
     },
     "execution_count": 96,
     "metadata": {},
     "output_type": "execute_result"
    }
   ],
   "source": [
    "\"a\".containsAtLeast1LowercaseLetter()"
   ],
   "metadata": {
    "collapsed": false,
    "ExecuteTime": {
     "end_time": "2023-12-10T22:52:02.192435Z",
     "start_time": "2023-12-10T22:52:02.124552Z"
    }
   }
  },
  {
   "cell_type": "code",
   "execution_count": 97,
   "outputs": [
    {
     "data": {
      "text/plain": "false"
     },
     "execution_count": 97,
     "metadata": {},
     "output_type": "execute_result"
    }
   ],
   "source": [
    "\"A\".containsAtLeast1LowercaseLetter()"
   ],
   "metadata": {
    "collapsed": false,
    "ExecuteTime": {
     "end_time": "2023-12-10T22:52:02.210146Z",
     "start_time": "2023-12-10T22:52:02.152391Z"
    }
   }
  },
  {
   "cell_type": "code",
   "execution_count": 98,
   "outputs": [
    {
     "data": {
      "text/plain": "false"
     },
     "execution_count": 98,
     "metadata": {},
     "output_type": "execute_result"
    }
   ],
   "source": [
    "\"1\".containsAtLeast1LowercaseLetter()"
   ],
   "metadata": {
    "collapsed": false,
    "ExecuteTime": {
     "end_time": "2023-12-10T22:52:02.261993Z",
     "start_time": "2023-12-10T22:52:02.185414Z"
    }
   }
  },
  {
   "cell_type": "code",
   "execution_count": 99,
   "outputs": [
    {
     "data": {
      "text/plain": "false"
     },
     "execution_count": 99,
     "metadata": {},
     "output_type": "execute_result"
    }
   ],
   "source": [
    "\"\".containsAtLeast1LowercaseLetter()"
   ],
   "metadata": {
    "collapsed": false,
    "ExecuteTime": {
     "end_time": "2023-12-10T22:52:02.270520Z",
     "start_time": "2023-12-10T22:52:02.220673Z"
    }
   }
  },
  {
   "cell_type": "markdown",
   "source": [
    "## Validation"
   ],
   "metadata": {
    "collapsed": false
   }
  },
  {
   "cell_type": "code",
   "execution_count": 100,
   "outputs": [],
   "source": [
    "fun validatePassword(s: String): Boolean = \n",
    "    s.containsAtLeast8Characters() && s.containsAtLeastANumber()\n",
    "\n"
   ],
   "metadata": {
    "collapsed": false,
    "ExecuteTime": {
     "end_time": "2023-12-10T22:52:02.317857Z",
     "start_time": "2023-12-10T22:52:02.249757Z"
    }
   }
  }
 ],
 "metadata": {
  "kernelspec": {
   "display_name": "Kotlin",
   "language": "kotlin",
   "name": "kotlin"
  },
  "language_info": {
   "name": "kotlin",
   "version": "1.9.0",
   "mimetype": "text/x-kotlin",
   "file_extension": ".kt",
   "pygments_lexer": "kotlin",
   "codemirror_mode": "text/x-kotlin",
   "nbconvert_exporter": ""
  }
 },
 "nbformat": 4,
 "nbformat_minor": 0
}
