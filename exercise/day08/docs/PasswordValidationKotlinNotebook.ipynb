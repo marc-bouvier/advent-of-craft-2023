{
 "cells": [
  {
   "cell_type": "markdown",
   "source": [
    "## Day 8: Your first TDD adventure.\n",
    "\n",
    "Today your journey takes you on your first TDD adventure.\n",
    "You will need to secure your ship.\n",
    "\n",
    "The task of today is to design a password verification program. \n",
    "\n",
    "The password verification program will take a password as an argument and \n",
    "the password will be valid only if all these conditions are correct:\n",
    "\n",
    "- Contains at least 8 characters\n",
    "- Contains at least one capital letter\n",
    "- Contains at least one lowercase letter\n",
    "- Contains at least a number\n",
    "- Contains at least a special character in this list `. * # @ $ % &`.\n",
    "- Any other characters are not authorized.\n",
    "\n",
    "In this program, the only thing that matters is to know if the password is valid.\n",
    "Not why it is not.\n",
    "\n",
    "Nevertheless, for the magic to work properly, you will need to follow the TDD rules. 🧙‍♂️\n",
    "\n",
    "The TDD rules are quite simple:\n",
    "\n",
    "- Write production code only to pass a failing unit test.\n",
    "- Write no more of a unit test than sufficient to fail (compilation failures are failures).\n",
    "- Write no more production code than necessary to pass the one failing unit test.\n",
    "\n",
    "A gentle reminder, the steps to use the TDD magic can be applied this way:\n",
    "\n",
    "    🔴 Write a failing test\n",
    "    🟢 Make the test pass\n",
    "    🔵 Refactor your code\n",
    "\n",
    "The magic will continue to work only with one condition:\n",
    "**if at any time, your tests are not passing, you need to revert your latest change.**\n",
    "\n",
    "The only exception to the previous rule is if you are using a double loop system. \n",
    "As shown below:\n",
    "\n",
    "![TDD Double Loop](img/double_loop.png)\n",
    "\n",
    "\n",
    "_Are you ready?_\n",
    "\n",
    ">**Challenge of day 8: Using TDD rules, write a password validation program.**\n",
    "\n",
    "May your crafting journey bring you new lights!\n",
    "\n",
    "- <u>💡HINT1:</u> The project is empty, so you'll have to auto-generate your code from a test class.\n",
    "- <u>💡HINT2:</u> Start with the easiest behavior to write a test for (Baby Step)."
   ],
   "metadata": {
    "collapsed": false
   }
  },
  {
   "cell_type": "markdown",
   "source": [
    "## Contains at least 8 characters"
   ],
   "metadata": {
    "collapsed": false
   }
  },
  {
   "cell_type": "code",
   "execution_count": null,
   "outputs": [],
   "source": [
    "fun String.containsAtLeast8Characters(): Boolean = this.length >= 8"
   ],
   "metadata": {
    "collapsed": false
   }
  },
  {
   "cell_type": "code",
   "execution_count": null,
   "outputs": [],
   "source": [
    "\"12345678\".containsAtLeast8Characters()"
   ],
   "metadata": {
    "collapsed": false
   }
  },
  {
   "cell_type": "code",
   "execution_count": null,
   "outputs": [],
   "source": [
    "\"123456789\".containsAtLeast8Characters()"
   ],
   "metadata": {
    "collapsed": false
   }
  },
  {
   "cell_type": "code",
   "execution_count": null,
   "outputs": [],
   "source": [
    "\"\".containsAtLeast8Characters()"
   ],
   "metadata": {
    "collapsed": false
   }
  },
  {
   "cell_type": "markdown",
   "source": [
    "## Contains at least a number"
   ],
   "metadata": {
    "collapsed": false
   }
  },
  {
   "cell_type": "code",
   "execution_count": null,
   "outputs": [],
   "source": [
    "fun String.containsAtLeastANumber(): Boolean = this.toCharArray().any { it.isDigit() }"
   ],
   "metadata": {
    "collapsed": false
   }
  },
  {
   "cell_type": "code",
   "execution_count": null,
   "outputs": [],
   "source": [
    "\"1\".containsAtLeastANumber()"
   ],
   "metadata": {
    "collapsed": false
   }
  },
  {
   "cell_type": "code",
   "execution_count": null,
   "outputs": [],
   "source": [
    "\"123456789\".containsAtLeastANumber()"
   ],
   "metadata": {
    "collapsed": false
   }
  },
  {
   "cell_type": "code",
   "execution_count": null,
   "outputs": [],
   "source": [
    "\"a\".containsAtLeastANumber()"
   ],
   "metadata": {
    "collapsed": false
   }
  },
  {
   "cell_type": "code",
   "execution_count": null,
   "outputs": [],
   "source": [
    "\"\".containsAtLeastANumber()"
   ],
   "metadata": {
    "collapsed": false
   }
  },
  {
   "cell_type": "markdown",
   "source": [
    "## Contains at least one capital letter\n"
   ],
   "metadata": {
    "collapsed": false
   }
  },
  {
   "cell_type": "code",
   "execution_count": null,
   "outputs": [],
   "source": [
    "fun String.containsAtLeast1CapitalLetter() = this.any{it.isLetter() && it.isUpperCase()}"
   ],
   "metadata": {
    "collapsed": false
   }
  },
  {
   "cell_type": "code",
   "execution_count": null,
   "outputs": [],
   "source": [
    "\"A\".containsAtLeast1CapitalLetter()"
   ],
   "metadata": {
    "collapsed": false
   }
  },
  {
   "cell_type": "code",
   "execution_count": null,
   "outputs": [],
   "source": [
    "\"ABC\".containsAtLeast1CapitalLetter()"
   ],
   "metadata": {
    "collapsed": false
   }
  },
  {
   "cell_type": "code",
   "execution_count": null,
   "outputs": [],
   "source": [
    "\"a\".containsAtLeast1CapitalLetter()"
   ],
   "metadata": {
    "collapsed": false
   }
  },
  {
   "cell_type": "code",
   "execution_count": null,
   "outputs": [],
   "source": [
    "\"1\".containsAtLeast1CapitalLetter()"
   ],
   "metadata": {
    "collapsed": false
   }
  },
  {
   "cell_type": "code",
   "execution_count": null,
   "outputs": [],
   "source": [
    "\"\".containsAtLeast1CapitalLetter()"
   ],
   "metadata": {
    "collapsed": false
   }
  },
  {
   "cell_type": "markdown",
   "source": [
    "## Contains at least one lowercase letter"
   ],
   "metadata": {
    "collapsed": false
   }
  },
  {
   "cell_type": "code",
   "execution_count": 1,
   "outputs": [],
   "source": [
    "fun String.containsAtLeast1LowercaseLetter() =  this.any { it.isLetter() && it.isLowerCase() }"
   ],
   "metadata": {
    "collapsed": false,
    "ExecuteTime": {
     "end_time": "2023-12-10T22:54:37.021682Z",
     "start_time": "2023-12-10T22:54:36.803112Z"
    }
   }
  },
  {
   "cell_type": "code",
   "execution_count": 2,
   "outputs": [
    {
     "data": {
      "text/plain": "true"
     },
     "execution_count": 2,
     "metadata": {},
     "output_type": "execute_result"
    }
   ],
   "source": [
    "\"a\".containsAtLeast1LowercaseLetter()"
   ],
   "metadata": {
    "collapsed": false,
    "ExecuteTime": {
     "end_time": "2023-12-10T22:54:39.206937Z",
     "start_time": "2023-12-10T22:54:39.119101Z"
    }
   }
  },
  {
   "cell_type": "code",
   "execution_count": 3,
   "outputs": [
    {
     "data": {
      "text/plain": "false"
     },
     "execution_count": 3,
     "metadata": {},
     "output_type": "execute_result"
    }
   ],
   "source": [
    "\"A\".containsAtLeast1LowercaseLetter()"
   ],
   "metadata": {
    "collapsed": false,
    "ExecuteTime": {
     "end_time": "2023-12-10T22:54:40.371387Z",
     "start_time": "2023-12-10T22:54:40.297257Z"
    }
   }
  },
  {
   "cell_type": "code",
   "execution_count": 4,
   "outputs": [
    {
     "data": {
      "text/plain": "false"
     },
     "execution_count": 4,
     "metadata": {},
     "output_type": "execute_result"
    }
   ],
   "source": [
    "\"1\".containsAtLeast1LowercaseLetter()"
   ],
   "metadata": {
    "collapsed": false,
    "ExecuteTime": {
     "end_time": "2023-12-10T22:54:41.312099Z",
     "start_time": "2023-12-10T22:54:41.207482Z"
    }
   }
  },
  {
   "cell_type": "code",
   "execution_count": 0,
   "outputs": [],
   "source": [
    "\"\".containsAtLeast1LowercaseLetter()"
   ],
   "metadata": {
    "collapsed": false
   }
  },
  {
   "cell_type": "markdown",
   "source": [
    "## Contains at least a special character in this list `. * # @ $ % &`."
   ],
   "metadata": {
    "collapsed": false
   }
  },
  {
   "cell_type": "code",
   "execution_count": 6,
   "outputs": [],
   "source": [
    "fun String.containsSpecialCharacters() =  this.any { setOf('.','*','#','@','$','%','&').contains(it) }"
   ],
   "metadata": {
    "collapsed": false,
    "ExecuteTime": {
     "end_time": "2023-12-10T23:01:27.733688Z",
     "start_time": "2023-12-10T23:01:27.608950Z"
    }
   }
  },
  {
   "cell_type": "code",
   "execution_count": 7,
   "outputs": [
    {
     "data": {
      "text/plain": "true"
     },
     "execution_count": 7,
     "metadata": {},
     "output_type": "execute_result"
    }
   ],
   "source": [
    "\".\".containsSpecialCharacters()"
   ],
   "metadata": {
    "collapsed": false,
    "ExecuteTime": {
     "end_time": "2023-12-10T23:01:36.524950Z",
     "start_time": "2023-12-10T23:01:36.468928Z"
    }
   }
  },
  {
   "cell_type": "code",
   "execution_count": 8,
   "outputs": [
    {
     "data": {
      "text/plain": "false"
     },
     "execution_count": 8,
     "metadata": {},
     "output_type": "execute_result"
    }
   ],
   "source": [
    "\"\".containsSpecialCharacters()"
   ],
   "metadata": {
    "collapsed": false,
    "ExecuteTime": {
     "end_time": "2023-12-10T23:01:43.587699Z",
     "start_time": "2023-12-10T23:01:43.539335Z"
    }
   }
  },
  {
   "cell_type": "code",
   "execution_count": 10,
   "outputs": [
    {
     "data": {
      "text/plain": "true"
     },
     "execution_count": 10,
     "metadata": {},
     "output_type": "execute_result"
    }
   ],
   "source": [
    "setOf(\".\",\"*\",\"#\",\"@\",\"$\",\"%\",\"&\").all{ it.containsSpecialCharacters()}"
   ],
   "metadata": {
    "collapsed": false,
    "ExecuteTime": {
     "end_time": "2023-12-10T23:03:42.068979Z",
     "start_time": "2023-12-10T23:03:41.964247Z"
    }
   }
  },
  {
   "cell_type": "markdown",
   "source": [
    "## Validation"
   ],
   "metadata": {
    "collapsed": false
   }
  },
  {
   "cell_type": "code",
   "execution_count": null,
   "outputs": [],
   "source": [
    "fun validatePassword(s: String): Boolean = \n",
    "    s.containsAtLeast8Characters() && s.containsAtLeastANumber()\n",
    "\n"
   ],
   "metadata": {
    "collapsed": false
   }
  }
 ],
 "metadata": {
  "kernelspec": {
   "display_name": "Kotlin",
   "language": "kotlin",
   "name": "kotlin"
  },
  "language_info": {
   "name": "kotlin",
   "version": "1.9.0",
   "mimetype": "text/x-kotlin",
   "file_extension": ".kt",
   "pygments_lexer": "kotlin",
   "codemirror_mode": "text/x-kotlin",
   "nbconvert_exporter": ""
  }
 },
 "nbformat": 4,
 "nbformat_minor": 0
}
