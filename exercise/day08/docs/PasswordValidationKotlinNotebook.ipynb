{
 "cells": [
  {
   "cell_type": "markdown",
   "source": [
    "## Day 8: Your first TDD adventure.\n",
    "\n",
    "Today your journey takes you on your first TDD adventure.\n",
    "You will need to secure your ship.\n",
    "\n",
    "The task of today is to design a password verification program. \n",
    "\n",
    "The password verification program will take a password as an argument and \n",
    "the password will be valid only if all these conditions are correct:\n",
    "\n",
    "- Contains at least 8 characters\n",
    "- Contains at least one capital letter\n",
    "- Contains at least one lowercase letter\n",
    "- Contains at least a number\n",
    "- Contains at least a special character in this list `. * # @ $ % &`.\n",
    "- Any other characters are not authorized.\n",
    "\n",
    "In this program, the only thing that matters is to know if the password is valid.\n",
    "Not why it is not.\n",
    "\n",
    "Nevertheless, for the magic to work properly, you will need to follow the TDD rules. 🧙‍♂️\n",
    "\n",
    "The TDD rules are quite simple:\n",
    "\n",
    "- Write production code only to pass a failing unit test.\n",
    "- Write no more of a unit test than sufficient to fail (compilation failures are failures).\n",
    "- Write no more production code than necessary to pass the one failing unit test.\n",
    "\n",
    "A gentle reminder, the steps to use the TDD magic can be applied this way:\n",
    "\n",
    "    🔴 Write a failing test\n",
    "    🟢 Make the test pass\n",
    "    🔵 Refactor your code\n",
    "\n",
    "The magic will continue to work only with one condition:\n",
    "**if at any time, your tests are not passing, you need to revert your latest change.**\n",
    "\n",
    "The only exception to the previous rule is if you are using a double loop system. \n",
    "As shown below:\n",
    "\n",
    "![TDD Double Loop](img/double_loop.png)\n",
    "\n",
    "\n",
    "_Are you ready?_\n",
    "\n",
    ">**Challenge of day 8: Using TDD rules, write a password validation program.**\n",
    "\n",
    "May your crafting journey bring you new lights!\n",
    "\n",
    "- <u>💡HINT1:</u> The project is empty, so you'll have to auto-generate your code from a test class.\n",
    "- <u>💡HINT2:</u> Start with the easiest behavior to write a test for (Baby Step).\n"
   ],
   "metadata": {
    "collapsed": false
   }
  },
  {
   "cell_type": "markdown",
   "source": [
    "## Contains at least 8 characters"
   ],
   "metadata": {
    "collapsed": false
   }
  },
  {
   "cell_type": "code",
   "execution_count": null,
   "outputs": [],
   "source": [
    "validatePassword(\"123456789\")"
   ],
   "metadata": {
    "collapsed": false
   }
  },
  {
   "cell_type": "code",
   "execution_count": null,
   "outputs": [],
   "source": [
    "validatePassword(\"12345678\")"
   ],
   "metadata": {
    "collapsed": false
   }
  },
  {
   "cell_type": "code",
   "execution_count": null,
   "outputs": [],
   "source": [
    "validatePassword(\"\")"
   ],
   "metadata": {
    "collapsed": false
   }
  },
  {
   "cell_type": "code",
   "execution_count": null,
   "outputs": [],
   "source": [
    "fun validatePassword(s: String):Boolean {\n",
    "    return s.length >= 8\n",
    "}"
   ],
   "metadata": {
    "collapsed": false
   }
  },
  {
   "cell_type": "code",
   "execution_count": null,
   "outputs": [],
   "source": [
    "\n"
   ],
   "metadata": {
    "collapsed": false
   }
  }
 ],
 "metadata": {
  "kernelspec": {
   "display_name": "Kotlin",
   "language": "kotlin",
   "name": "kotlin"
  },
  "language_info": {
   "name": "kotlin",
   "version": "1.9.0",
   "mimetype": "text/x-kotlin",
   "file_extension": ".kt",
   "pygments_lexer": "kotlin",
   "codemirror_mode": "text/x-kotlin",
   "nbconvert_exporter": ""
  }
 },
 "nbformat": 4,
 "nbformat_minor": 0
}
